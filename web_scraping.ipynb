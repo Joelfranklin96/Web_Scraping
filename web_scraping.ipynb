{
 "cells": [
  {
   "cell_type": "markdown",
   "id": "79f446db",
   "metadata": {},
   "source": [
    "### Scraping Random wikipedia webpages"
   ]
  },
  {
   "cell_type": "code",
   "execution_count": 44,
   "id": "8518ce68",
   "metadata": {},
   "outputs": [],
   "source": [
    "import requests\n",
    "from bs4 import BeautifulSoup\n",
    "import random"
   ]
  },
  {
   "cell_type": "code",
   "execution_count": 78,
   "id": "066568fd",
   "metadata": {},
   "outputs": [],
   "source": [
    "def webScrapingRandomPages(url, count):\n",
    "    \n",
    "    if count == 50:\n",
    "        return\n",
    "    \n",
    "    page_content = requests.get(url)\n",
    "    soup_content = BeautifulSoup(page_content.content, 'html.parser')\n",
    "    pageTitle = soup_content.find('title').string\n",
    "    print(pageTitle)\n",
    "    links = soup_content.find(id = 'bodyContent').find_all('a')\n",
    "    \n",
    "    while True:\n",
    "        random_num = random.randint(0, len(links)-1)\n",
    "        link = links[random_num]\n",
    "        if '/wiki' in link['href'] and 'https' not in link['href']:\n",
    "            break\n",
    "            \n",
    "    standard_link = 'https://en.wikipedia.org'\n",
    "    url = standard_link + link['href']\n",
    "    print(url)\n",
    "    return webScrapingRandomPages(url, count+1)"
   ]
  },
  {
   "cell_type": "code",
   "execution_count": 79,
   "id": "172d9bca",
   "metadata": {},
   "outputs": [
    {
     "name": "stdout",
     "output_type": "stream",
     "text": [
      "Solar System - Wikipedia\n",
      "https://en.wikipedia.org/wiki/Portal:Solar_system\n",
      "Portal:Solar System - Wikipedia\n",
      "https://en.wikipedia.org/wiki/Dwarf_planet\n",
      "Dwarf planet - Wikipedia\n",
      "https://en.wikipedia.org/wiki/Exploration_of_Uranus\n",
      "Exploration of Uranus - Wikipedia\n",
      "https://en.wikipedia.org/wiki/Geology\n",
      "Geology - Wikipedia\n",
      "https://en.wikipedia.org/wiki/Doi_(identifier)\n",
      "Digital object identifier - Wikipedia\n",
      "https://en.wikipedia.org/wiki/Doi_(identifier)\n",
      "Digital object identifier - Wikipedia\n",
      "https://en.wikipedia.org/wiki/Hazard_symbol#Ionizing_radiation_symbol\n",
      "Hazard symbol - Wikipedia\n",
      "https://en.wikipedia.org/wiki/European_hazard_symbols\n",
      "European hazard symbols - Wikipedia\n",
      "https://en.wikipedia.org/wiki/Picric_acid\n",
      "Picric acid - Wikipedia\n",
      "https://en.wikipedia.org/wiki/Louis_Nicolas_Vauquelin\n",
      "Louis Nicolas Vauquelin - Wikipedia\n",
      "https://en.wikipedia.org/wiki/Category:Articles_with_CANTICN_identifiers\n",
      "Category:Articles with CANTICN identifiers - Wikipedia\n",
      "https://en.wikipedia.org/wiki/Abdullah_II_of_Jordan\n",
      "Abdullah II of Jordan - Wikipedia\n",
      "https://en.wikipedia.org/wiki/Brother_Roger\n",
      "Brother Roger - Wikipedia\n",
      "https://en.wikipedia.org/wiki/ISBN_(identifier)\n",
      "ISBN - Wikipedia\n",
      "https://en.wikipedia.org/wiki/International_Standard_Atmosphere\n",
      "International Standard Atmosphere - Wikipedia\n",
      "https://en.wikipedia.org/wiki/ISO_31-11\n",
      "ISO 31-11 - Wikipedia\n",
      "https://en.wikipedia.org/wiki/ISO_6943\n",
      "ISO 6943 - Wikipedia\n",
      "https://en.wikipedia.org/wiki/Motion_JPEG_2000\n",
      "Motion JPEG 2000 - Wikipedia\n",
      "https://en.wikipedia.org/wiki/OCR-A\n",
      "OCR-A - Wikipedia\n",
      "https://en.wikipedia.org/wiki/Jomolhari_(typeface)\n",
      "Jomolhari (typeface) - Wikipedia\n",
      "https://en.wikipedia.org/wiki/Pango\n",
      "Pango - Wikipedia\n",
      "https://en.wikipedia.org/wiki/Wayland_(display_server_protocol)\n",
      "Wayland (protocol) - Wikipedia\n",
      "https://en.wikipedia.org/wiki/Raspberry_Pi\n",
      "Raspberry Pi - Wikipedia\n",
      "https://en.wikipedia.org/wiki/Ian_Livingstone\n",
      "Ian Livingstone - Wikipedia\n",
      "https://en.wikipedia.org/wiki/Lich_(Dungeons_%26_Dragons)\n",
      "Lich (Dungeons & Dragons) - Wikipedia\n",
      "https://en.wikipedia.org/wiki/Gnome_(Dungeons_%26_Dragons)\n",
      "Gnome (Dungeons & Dragons) - Wikipedia\n",
      "https://en.wikipedia.org/wiki/Dragonlance_Adventures\n",
      "Dragonlance Adventures - Wikipedia\n",
      "https://en.wikipedia.org/wiki/Magic:_The_Gathering\n",
      "Magic: The Gathering - Wikipedia\n",
      "https://en.wikipedia.org/wiki/Retroactive_continuity\n",
      "Retroactive continuity - Wikipedia\n",
      "https://en.wikipedia.org/wiki/Comic_book_letter_column\n",
      "Comic book letter column - Wikipedia\n",
      "https://en.wikipedia.org/wiki/Wendy_and_Richard_Pini\n",
      "Wendy and Richard Pini - Wikipedia\n",
      "https://en.wikipedia.org/wiki/Richard_Alf\n",
      "Richard Alf - Wikipedia\n",
      "https://en.wikipedia.org/wiki/Walt_Kelly\n",
      "Walt Kelly - Wikipedia\n",
      "https://en.wikipedia.org/wiki/Help:Maintenance_template_removal\n",
      "Help:Maintenance template removal - Wikipedia\n",
      "https://en.wikipedia.org/wiki/Wikipedia:List_of_discussion_templates\n",
      "Wikipedia:List of discussion templates - Wikipedia\n",
      "https://en.wikipedia.org/wiki/File:Pictogram_voting_comment.svg\n",
      "File:Pictogram voting comment.svg - Wikipedia\n",
      "https://en.wikipedia.org/wiki/Talk:Inductive_reasoning\n",
      "Talk:Inductive reasoning - Wikipedia\n",
      "https://en.wikipedia.org/wiki/Category:Epistemology_task_force_articles\n",
      "Category:Epistemology task force articles - Wikipedia\n",
      "https://en.wikipedia.org/wiki/Talk:Critical_thinking\n",
      "Talk:Critical thinking - Wikipedia\n",
      "https://en.wikipedia.org/wiki/Wikipedia_talk:WikiProject_Skepticism\n",
      "Wikipedia talk:WikiProject Skepticism - Wikipedia\n",
      "https://en.wikipedia.org/wiki/Category:GA-Class_Skepticism_articles\n",
      "Category:GA-Class Skepticism articles - Wikipedia\n",
      "https://en.wikipedia.org/wiki/Talk:Jacob_Wohl\n",
      "Talk:Jacob Wohl - Wikipedia\n",
      "https://en.wikipedia.org/wiki/Ryan_Holiday\n",
      "Ryan Holiday - Wikipedia\n",
      "https://en.wikipedia.org/wiki/Silicon_Valley\n",
      "Silicon Valley - Wikipedia\n",
      "https://en.wikipedia.org/wiki/Time_zone\n",
      "Time zone - Wikipedia\n",
      "https://en.wikipedia.org/wiki/UTC%E2%88%9210:00\n",
      "UTC−10:00 - Wikipedia\n",
      "https://en.wikipedia.org/wiki/Standard_time\n",
      "Standard time - Wikipedia\n",
      "https://en.wikipedia.org/wiki/Standard_time_in_the_United_States\n",
      "History of time in the United States - Wikipedia\n",
      "https://en.wikipedia.org/wiki/Morning_Edition\n",
      "Morning Edition - Wikipedia\n",
      "https://en.wikipedia.org/wiki/Noel_King_(broadcast_journalist)\n"
     ]
    }
   ],
   "source": [
    "webScrapingRandomPages('https://en.wikipedia.org/wiki/Solar_System', 0)"
   ]
  },
  {
   "cell_type": "markdown",
   "id": "524af9d4",
   "metadata": {},
   "source": [
    "### ------------------------------------------------------------------------------------------------------------------------------------------------------"
   ]
  },
  {
   "cell_type": "markdown",
   "id": "04ce398a",
   "metadata": {},
   "source": [
    "### Scraping emails from a webpage"
   ]
  },
  {
   "cell_type": "code",
   "execution_count": 3,
   "id": "10930e08",
   "metadata": {},
   "outputs": [],
   "source": [
    "page_content = requests.get('https://www.brandeis.edu/computer-science/people/index.html')"
   ]
  },
  {
   "cell_type": "code",
   "execution_count": 6,
   "id": "18f2e785",
   "metadata": {},
   "outputs": [],
   "source": [
    "soup_content = BeautifulSoup(page_content.content, 'html.parser')"
   ]
  },
  {
   "cell_type": "code",
   "execution_count": 25,
   "id": "83002cf9",
   "metadata": {},
   "outputs": [],
   "source": [
    "faculty_emails_tags = soup_content.find_all(class_ = 'faculty__listing__email')\n",
    "faculty_names_tags = soup_content.find_all(class_ = 'faculty__listing__name')"
   ]
  },
  {
   "cell_type": "code",
   "execution_count": 28,
   "id": "338cc808",
   "metadata": {},
   "outputs": [],
   "source": [
    "faculty_emails = [x['href'] for x in faculty_emails_tags]\n",
    "faculty_names = [x.string for x in faculty_names_tags]"
   ]
  },
  {
   "cell_type": "code",
   "execution_count": 30,
   "id": "920eed32",
   "metadata": {},
   "outputs": [],
   "source": [
    "required_emails = [x[7:] for x in faculty_emails]"
   ]
  },
  {
   "cell_type": "code",
   "execution_count": 40,
   "id": "abbec3e9",
   "metadata": {},
   "outputs": [],
   "source": [
    "contacts = [x + \" \" + y for x, y in zip(required_emails, faculty_names)]"
   ]
  },
  {
   "cell_type": "code",
   "execution_count": 41,
   "id": "8faa3b69",
   "metadata": {},
   "outputs": [
    {
     "data": {
      "text/plain": [
       "['ralterma@brandeis.edu Rick Alterman',\n",
       " 'mfc@brandeis.edu Mitch Cherniack',\n",
       " 'lmgold@brandeis.edu Lotus Goldberg',\n",
       " 'tjhickey@brandeis.edu Tim Hickey',\n",
       " 'hongpeng@brandeis.edu Pengyu Hong',\n",
       " 'lignos@brandeis.edu Constantine Lignos',\n",
       " 'hongfuliu@brandeis.edu Hongfu Liu',\n",
       " 'mairson@brandeis.edu Harry Mairson',\n",
       " 'smalamud@brandeis.edu Sophia Malamud',\n",
       " 'papaemmanouil@brandeis.edu Olga Papaemmanouil',\n",
       " 'kplaster@brandeis.edu Keith Plaster',\n",
       " 'pollack@brandeis.edu Jordan Pollack',\n",
       " 'jamesp@brandeis.edu James Pustejovsky',\n",
       " 'rpsalas@brandeis.edu R. Pito Salas',\n",
       " 'liuba@brandeis.edu Liuba Shrira',\n",
       " 'storer@brandeis.edu Jim Storer',\n",
       " 'tsekourakis@brandeis.edu Iraklis Tsekourakis',\n",
       " 'chuxuzhang@brandeis.edu Chuxu Zhang',\n",
       " 'xuen@brandeis.edu Nianwen Bert Xue',\n",
       " 'panick@brandeis.edu Peter Anick',\n",
       " 'jkl@brandeis.edu Jessica Liebowitz',\n",
       " 'marc@cs.brandeis.edu Marc Verhagen',\n",
       " 'wellner@cs.brandeis.edu Ben Wellner',\n",
       " 'chris@cs.brandeis.edu Chris Allison',\n",
       " 'golitsyn@brandeis.edu Michael Golitsyn',\n",
       " 'gudaitis@brandeis.edu Anne Gudaitis']"
      ]
     },
     "execution_count": 41,
     "metadata": {},
     "output_type": "execute_result"
    }
   ],
   "source": [
    "contacts"
   ]
  },
  {
   "cell_type": "code",
   "execution_count": 43,
   "id": "2f9bcfbf",
   "metadata": {},
   "outputs": [],
   "source": [
    "with open(\"output.txt\", \"w\") as file:\n",
    "    for element in contacts:\n",
    "        file.write(str(element) + \"\\n\")"
   ]
  }
 ],
 "metadata": {
  "kernelspec": {
   "display_name": "Python 3 (ipykernel)",
   "language": "python",
   "name": "python3"
  },
  "language_info": {
   "codemirror_mode": {
    "name": "ipython",
    "version": 3
   },
   "file_extension": ".py",
   "mimetype": "text/x-python",
   "name": "python",
   "nbconvert_exporter": "python",
   "pygments_lexer": "ipython3",
   "version": "3.9.12"
  }
 },
 "nbformat": 4,
 "nbformat_minor": 5
}
